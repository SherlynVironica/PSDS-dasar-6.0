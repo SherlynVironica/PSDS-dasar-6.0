{
  "nbformat": 4,
  "nbformat_minor": 0,
  "metadata": {
    "colab": {
      "provenance": [],
      "authorship_tag": "ABX9TyOpPMZN/3JWBmq2zbWMNMiu",
      "include_colab_link": true
    },
    "kernelspec": {
      "name": "python3",
      "display_name": "Python 3"
    },
    "language_info": {
      "name": "python"
    }
  },
  "cells": [
    {
      "cell_type": "markdown",
      "metadata": {
        "id": "view-in-github",
        "colab_type": "text"
      },
      "source": [
        "<a href=\"https://colab.research.google.com/github/SherlynVironica/PSDS-dasar-6.0/blob/main/PSDS_Dasar.ipynb\" target=\"_parent\"><img src=\"https://colab.research.google.com/assets/colab-badge.svg\" alt=\"Open In Colab\"/></a>"
      ]
    },
    {
      "cell_type": "markdown",
      "source": [
        "1. Statement"
      ],
      "metadata": {
        "id": "uchsCfLmM9Xj"
      }
    },
    {
      "cell_type": "code",
      "execution_count": null,
      "metadata": {
        "colab": {
          "base_uri": "https://localhost:8080/"
        },
        "id": "Sdk5l6R2MSyk",
        "outputId": "45df3712-6e44-49b9-9798-25a260d23334"
      },
      "outputs": [
        {
          "output_type": "stream",
          "name": "stdout",
          "text": [
            "belajar Python menyenangkan\n",
            "halo dunia\n"
          ]
        }
      ],
      "source": [
        "print (\"belajar Python menyenangkan\")\n",
        "print (\"halo dunia\")"
      ]
    },
    {
      "cell_type": "markdown",
      "source": [
        "2. Variable"
      ],
      "metadata": {
        "id": "mrMur46eNurl"
      }
    },
    {
      "cell_type": "code",
      "source": [
        "bilangan1 = 5\n",
        "bilangan2 = 10\n",
        "kalimat = \"pejuang data 3\""
      ],
      "metadata": {
        "id": "FuxxdzkgM8Ck"
      },
      "execution_count": null,
      "outputs": []
    },
    {
      "cell_type": "markdown",
      "source": [
        "3. Literals: simbol-simbol yang dapat kita gunakan untuk mengisi suatu variabel.\n",
        "\n",
        "4. Operators: simbol-simbol yang dapat digunakan untuk mengubah nilai dari suatu variabel.\n",
        "\n",
        "5.\n",
        "\n",
        "6. Whitespace: memiliki peran yang sangat penting dalam python karena digunakan untuk menentukan struktur dan blok kode. Dalam python, whitespace melibatkan penggunaan."
      ],
      "metadata": {
        "id": "y1Mj_D15OGHT"
      }
    },
    {
      "cell_type": "markdown",
      "source": [
        "a. single line comment"
      ],
      "metadata": {
        "id": "VVqRxPSlRdtY"
      }
    },
    {
      "cell_type": "code",
      "source": [
        "#ini adalah comment\n",
        "print ('belajar python')"
      ],
      "metadata": {
        "colab": {
          "base_uri": "https://localhost:8080/"
        },
        "id": "VVeHuCztRiSM",
        "outputId": "6852cf8f-02ae-406c-cc46-0734019f36aa"
      },
      "execution_count": null,
      "outputs": [
        {
          "output_type": "stream",
          "name": "stdout",
          "text": [
            "belajar python\n"
          ]
        }
      ]
    },
    {
      "cell_type": "markdown",
      "source": [
        "b. multi line comment"
      ],
      "metadata": {
        "id": "qBN8be0dRqE7"
      }
    },
    {
      "cell_type": "code",
      "source": [
        "'''\n",
        "ini adalah komentar panjang\n",
        "bisa digunakan untuk memberikan penjelasan panjang pada sel kode python\n",
        "misal dokumentasi program, spesifikasi\n",
        "input output atau yang lainnya\n",
        "'''\n",
        "\n",
        "print ('Belajar Python menyenangkan')"
      ],
      "metadata": {
        "colab": {
          "base_uri": "https://localhost:8080/"
        },
        "id": "Aic1r-MaRtIH",
        "outputId": "fe1dde39-5d0c-46b6-8416-1f05dc84b3a3"
      },
      "execution_count": null,
      "outputs": [
        {
          "output_type": "stream",
          "name": "stdout",
          "text": [
            "Belajar Python menyenangkan\n"
          ]
        }
      ]
    },
    {
      "cell_type": "code",
      "source": [],
      "metadata": {
        "id": "7kBfEydARoW0"
      },
      "execution_count": null,
      "outputs": []
    }
  ]
}