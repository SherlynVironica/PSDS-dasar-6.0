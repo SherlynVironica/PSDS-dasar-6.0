{
  "nbformat": 4,
  "nbformat_minor": 0,
  "metadata": {
    "colab": {
      "provenance": [],
      "authorship_tag": "ABX9TyMU3+tPmpMqUOH2F8j/6Zp7",
      "include_colab_link": true
    },
    "kernelspec": {
      "name": "python3",
      "display_name": "Python 3"
    },
    "language_info": {
      "name": "python"
    }
  },
  "cells": [
    {
      "cell_type": "markdown",
      "metadata": {
        "id": "view-in-github",
        "colab_type": "text"
      },
      "source": [
        "<a href=\"https://colab.research.google.com/github/SherlynVironica/PSDS-dasar-6.0/blob/main/tugas_PSDS_6_0_Sherlyn_Vironica.ipynb\" target=\"_parent\"><img src=\"https://colab.research.google.com/assets/colab-badge.svg\" alt=\"Open In Colab\"/></a>"
      ]
    },
    {
      "cell_type": "markdown",
      "source": [
        "FUNCTION"
      ],
      "metadata": {
        "id": "OBIMsTxrotEX"
      }
    },
    {
      "cell_type": "markdown",
      "source": [
        "1. Buatlah sebuah fungsi untuk menghitung luas dan keliling lingkaran dengan input jari2!"
      ],
      "metadata": {
        "id": "cr_qKch8_-85"
      }
    },
    {
      "cell_type": "code",
      "execution_count": null,
      "metadata": {
        "colab": {
          "base_uri": "https://localhost:8080/"
        },
        "id": "_HYUuyMw_8nb",
        "outputId": "07b44757-ed83-45f6-a274-23f1207d0491"
      },
      "outputs": [
        {
          "output_type": "stream",
          "name": "stdout",
          "text": [
            "153.86\n",
            "43.96\n"
          ]
        }
      ],
      "source": [
        "# luas lingkaran\n",
        "phi = 3.14\n",
        "def luas_lingkaran(r):\n",
        "  return phi*r**2\n",
        "def keliling_lingkaran(r):\n",
        "  return 2*phi*r\n",
        "print(luas_lingkaran(7))\n",
        "print(keliling_lingkaran(7))"
      ]
    },
    {
      "cell_type": "markdown",
      "source": [
        "2. Buatlah sebuah fungsi untuk menggabungkan dua kata dalam bentuk string bebas menjadi satu kata tanpa spasi dengan huruf kecil\n",
        "Contoh:\n",
        "\n",
        "gabung_kata('TANGKUBAN', 'PeRaHu')\n",
        "\n",
        "Output: ```python 'tangkubanperahu'"
      ],
      "metadata": {
        "id": "EwGaOj8An3td"
      }
    },
    {
      "cell_type": "code",
      "source": [
        "a = 'SherLyn'\n",
        "b = 'VirOniCA'\n",
        "\n",
        "def gabung (a,b):\n",
        "  print(a.lower(), b.lower(), sep='')\n",
        "gabung(a,b)"
      ],
      "metadata": {
        "colab": {
          "base_uri": "https://localhost:8080/"
        },
        "id": "VJXifhyRmcn8",
        "outputId": "ad1b5bac-f5e1-4969-b98b-b0c2a6eb2b8d"
      },
      "execution_count": null,
      "outputs": [
        {
          "output_type": "stream",
          "name": "stdout",
          "text": [
            "sherlynvironica\n"
          ]
        }
      ]
    },
    {
      "cell_type": "markdown",
      "source": [
        "LAMBDA"
      ],
      "metadata": {
        "id": "22Z12rTxmcCA"
      }
    },
    {
      "cell_type": "markdown",
      "source": [
        "1. Buatlah fungsi lambda untuk melakukan filter pada data range(n) untuk data-data yang berupa bilangan kelipatan 3!"
      ],
      "metadata": {
        "id": "p4UKoC1eo4f0"
      }
    },
    {
      "cell_type": "code",
      "source": [
        "# menentukan bilangan kelipatan 3\n",
        "kelipatan_tiga = lambda x: x%3 == 0\n",
        "list(filter(kelipatan_tiga, range(20)))"
      ],
      "metadata": {
        "colab": {
          "base_uri": "https://localhost:8080/"
        },
        "id": "Ga8WhZ5fpm-p",
        "outputId": "c859fbc9-d506-417a-c4c4-565e03c6ff8c"
      },
      "execution_count": null,
      "outputs": [
        {
          "output_type": "execute_result",
          "data": {
            "text/plain": [
              "[0, 3, 6, 9, 12, 15, 18]"
            ]
          },
          "metadata": {},
          "execution_count": 3
        }
      ]
    },
    {
      "cell_type": "markdown",
      "source": [
        "2. Buatlah fungsi lambda untuk memilih kata-kata dengan jumlah karakter lebih dari sama dengan 6 pada list inputnya. Misal:\n",
        "list_input=['saya', 'adalah', 'seorang', 'kapiten']\n",
        "\n",
        "Output:\n",
        "\n",
        "['adalah', 'seorang', 'kapiten']"
      ],
      "metadata": {
        "id": "N-x_QwoBo9Vq"
      }
    },
    {
      "cell_type": "code",
      "source": [
        "list_input =['saya', 'adalah', 'seorang', 'ilmuwan']\n",
        "filtered_result = lambda kata: len(kata) >=6\n",
        "list(filter(filtered_result, list_input))\n"
      ],
      "metadata": {
        "colab": {
          "base_uri": "https://localhost:8080/"
        },
        "id": "g_6nv-kppA_R",
        "outputId": "f318049e-0b74-43d0-cade-c5b41f30f18b"
      },
      "execution_count": null,
      "outputs": [
        {
          "output_type": "execute_result",
          "data": {
            "text/plain": [
              "['adalah', 'seorang', 'ilmuwan']"
            ]
          },
          "metadata": {},
          "execution_count": 12
        }
      ]
    }
  ]
}