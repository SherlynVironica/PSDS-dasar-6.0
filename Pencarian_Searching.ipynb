{
  "nbformat": 4,
  "nbformat_minor": 0,
  "metadata": {
    "colab": {
      "provenance": [],
      "authorship_tag": "ABX9TyPPwRURrO9UVfiBD/6n9Wwu",
      "include_colab_link": true
    },
    "kernelspec": {
      "name": "python3",
      "display_name": "Python 3"
    },
    "language_info": {
      "name": "python"
    }
  },
  "cells": [
    {
      "cell_type": "markdown",
      "metadata": {
        "id": "view-in-github",
        "colab_type": "text"
      },
      "source": [
        "<a href=\"https://colab.research.google.com/github/SherlynVironica/PSDS-dasar-6.0/blob/main/Pencarian_Searching.ipynb\" target=\"_parent\"><img src=\"https://colab.research.google.com/assets/colab-badge.svg\" alt=\"Open In Colab\"/></a>"
      ]
    },
    {
      "cell_type": "code",
      "execution_count": null,
      "metadata": {
        "id": "zGYwuPL4eWrA"
      },
      "outputs": [],
      "source": [
        "def sqesearch(data, key):\n",
        "  pos =[ ]\n",
        "  iterasi = 0\n",
        "  for i in range(len(data)):\n",
        "    iterasi += 1\n",
        "    if data[i]==key:\n",
        "      pos.append(i+1)\n",
        "  if len(pos)>0:\n",
        "    print('data', key, 'sebanyak', len(pos), 'ditemukan di posisi', pos)\n",
        "  else:\n",
        "    print('data tidak ditemukan')\n",
        "  print('iterasi yang diperlukan', iterasi)\n",
        "  return"
      ]
    },
    {
      "cell_type": "code",
      "source": [
        "def sqesearch(data, key):\n",
        "    pos = []\n",
        "\n",
        "    for i in range (len(data)):\n",
        "        if data[i] == key:\n",
        "            pos.append(i+1)\n",
        "\n",
        "    if len(pos) > 0:\n",
        "        print(f\"data{key} sebanyak {len(pos)} ditemukan di posisi {pos}\")\n",
        "    else:\n",
        "        print(\"Data tidak ditemukan\")\n",
        "\n",
        "    return pos"
      ],
      "metadata": {
        "id": "H3gY8sbXkcxM"
      },
      "execution_count": null,
      "outputs": []
    },
    {
      "cell_type": "code",
      "source": [
        "data = [10, 20, 30, 50, 50]\n",
        "sqesearch(data, 50)"
      ],
      "metadata": {
        "colab": {
          "base_uri": "https://localhost:8080/"
        },
        "id": "crgGngi5liTi",
        "outputId": "87e66842-72f1-4dc5-d3e2-d85b03354c26"
      },
      "execution_count": null,
      "outputs": [
        {
          "output_type": "stream",
          "name": "stdout",
          "text": [
            "data50 sebanyak 2 ditemukan di posisi [4, 5]\n"
          ]
        },
        {
          "output_type": "execute_result",
          "data": {
            "text/plain": [
              "[4, 5]"
            ]
          },
          "metadata": {},
          "execution_count": 3
        }
      ]
    },
    {
      "cell_type": "code",
      "source": [
        "def binsearch(data, key):\n",
        "    awal = 0\n",
        "    akhir = len(data)\n",
        "    ketemu = False\n",
        "\n",
        "    while (awal <= akhir) and not ketemu:\n",
        "      tengah = int ((awal + akhir) / 2)\n",
        "\n",
        "      if key == data[tengah]:\n",
        "          ketemu = True\n",
        "          print(f\"data{key} ditemukan di posisi {tengah + 1}\")\n",
        "      elif key < data[tengah]:\n",
        "        akhir = tengah - 1\n",
        "      else:\n",
        "        awal = tengah + 1\n",
        "\n",
        "    if not ketemu:\n",
        "        print(\"Data tidak ditemukan\")"
      ],
      "metadata": {
        "id": "rYq9NTvAl3kC"
      },
      "execution_count": null,
      "outputs": []
    },
    {
      "cell_type": "code",
      "source": [
        "data = [10, 20, 30, 50, 60]\n",
        "binsearch(data, 20)"
      ],
      "metadata": {
        "colab": {
          "base_uri": "https://localhost:8080/"
        },
        "id": "0JyJ47_XqCJK",
        "outputId": "52dcee6c-ec41-4779-d01f-56f2f89ff383"
      },
      "execution_count": null,
      "outputs": [
        {
          "output_type": "stream",
          "name": "stdout",
          "text": [
            "data20 ditemukan di posisi 2\n"
          ]
        }
      ]
    },
    {
      "cell_type": "code",
      "source": [],
      "metadata": {
        "id": "LxY5jyh_qStT"
      },
      "execution_count": null,
      "outputs": []
    }
  ]
}